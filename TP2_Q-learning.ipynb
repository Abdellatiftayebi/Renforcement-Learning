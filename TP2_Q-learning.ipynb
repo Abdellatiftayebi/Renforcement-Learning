{
 "cells": [
  {
   "cell_type": "code",
   "execution_count": 4,
   "id": "9dc5946e-fc22-464d-bf3a-bf2fa1ee63c7",
   "metadata": {},
   "outputs": [],
   "source": [
    "import gym \n",
    "import numpy as np"
   ]
  },
  {
   "cell_type": "code",
   "execution_count": 5,
   "id": "05c13c3a-6405-4549-9b49-9b7b8e04de82",
   "metadata": {},
   "outputs": [],
   "source": [
    "env =gym.make(\"FrozenLake-v1\",render_mode = \"rgb_array\",is_slippery=False)"
   ]
  },
  {
   "cell_type": "code",
   "execution_count": 6,
   "id": "5ec46fb9-5981-48e6-9894-5fd8f092d9b5",
   "metadata": {},
   "outputs": [],
   "source": [
    "class Q_Learning():\n",
    "    def __init__(self,env,n_iteration,epsilon,discount_facture,alpha):\n",
    "        self.num_state=env.observation_space.n\n",
    "        self.num_action = env.action_space.n\n",
    "        self.n_iteration=n_iteration\n",
    "        self.discount_facture=discount_facture\n",
    "        self.epsilon = epsilon\n",
    "        self.alpha = alpha\n",
    "        \n",
    "    def MainAlgorithm(self):\n",
    "        Q = np.zeros((self.num_state,self.num_action))\n",
    "        for i in range(self.n_iteration):\n",
    "            cur_state = env.reset()[0]\n",
    "\n",
    "            \n",
    "            done = False\n",
    "            while not done :\n",
    "                policy = np.argmax(Q, axis=1)\n",
    "                \n",
    "                if np.random.rand() < self.epsilon:\n",
    "                    action = np.random.randint(0,self.num_action) # Exploration \n",
    "                else :\n",
    "                    action = policy[cur_state] # Exploitation \n",
    "\n",
    "                    \n",
    "                next_state,reward,termine,truncate,info =env.step(action)\n",
    "                done= termine or truncate\n",
    "\n",
    "                Q[cur_state,action] +=self.alpha * (reward + self.discount_facture * max(Q[next_state])- Q[cur_state,action] )\n",
    "                    \n",
    "                cur_state = next_state\n",
    "        \n",
    "        policy = np.argmax(Q, axis=1)\n",
    "        return policy"
   ]
  },
  {
   "cell_type": "code",
   "execution_count": 8,
   "id": "88dafa9b-87c0-448c-8bba-e5da8ea15270",
   "metadata": {},
   "outputs": [
    {
     "name": "stderr",
     "output_type": "stream",
     "text": [
      "F:\\Anaconda\\Lib\\site-packages\\gym\\utils\\passive_env_checker.py:233: DeprecationWarning: `np.bool8` is a deprecated alias for `np.bool_`.  (Deprecated NumPy 1.24)\n",
      "  if not isinstance(terminated, (bool, np.bool8)):\n"
     ]
    },
    {
     "name": "stdout",
     "output_type": "stream",
     "text": [
      "test ................\n",
      "[1 2 1 0 1 0 1 0 2 1 1 0 0 2 2 0]\n"
     ]
    },
    {
     "name": "stderr",
     "output_type": "stream",
     "text": [
      "F:\\Anaconda\\Lib\\site-packages\\gym\\utils\\passive_env_checker.py:233: DeprecationWarning: `np.bool8` is a deprecated alias for `np.bool_`.  (Deprecated NumPy 1.24)\n",
      "  if not isinstance(terminated, (bool, np.bool8)):\n"
     ]
    }
   ],
   "source": [
    "n_iteration = 100_000\n",
    "epsilon = 0.8\n",
    "discount= 0.9\n",
    "alpha = 0.85\n",
    "\n",
    "np.random.seed(1)\n",
    "\n",
    "app = Q_Learning(env,n_iteration,epsilon,discount,alpha)\n",
    "policy = app.MainAlgorithm()\n",
    "\n",
    "env.close()\n",
    "print(\"test ................\")\n",
    "print(policy)\n",
    "\n",
    "env =gym.make(\"FrozenLake-v1\",render_mode = \"human\",is_slippery=False)\n",
    "cur_state  = env.reset()[0]\n",
    "\n",
    "done = False\n",
    "reward_ = 0\n",
    "\n",
    "while not done : \n",
    "    action = policy[cur_state]\n",
    "    \n",
    "    next_state,reward,termine,truncate,info =env.step(action)\n",
    "    env.render()\n",
    "    done=termine or truncate\n",
    "    reward_ = reward\n",
    "    \n",
    "    \n",
    "    cur_state =next_state\n",
    "    \n",
    "    \n",
    "env.close()"
   ]
  },
  {
   "cell_type": "code",
   "execution_count": null,
   "id": "6d20d79b-e001-4c62-afd9-06226ac0c8d7",
   "metadata": {},
   "outputs": [],
   "source": []
  }
 ],
 "metadata": {
  "kernelspec": {
   "display_name": "Python 3 (ipykernel)",
   "language": "python",
   "name": "python3"
  },
  "language_info": {
   "codemirror_mode": {
    "name": "ipython",
    "version": 3
   },
   "file_extension": ".py",
   "mimetype": "text/x-python",
   "name": "python",
   "nbconvert_exporter": "python",
   "pygments_lexer": "ipython3",
   "version": "3.12.7"
  }
 },
 "nbformat": 4,
 "nbformat_minor": 5
}
