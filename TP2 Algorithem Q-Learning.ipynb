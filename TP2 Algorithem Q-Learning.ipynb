{
 "cells": [
  {
   "cell_type": "code",
   "execution_count": 9,
   "id": "b87c1659-2d29-4b67-ae93-4b97d598634c",
   "metadata": {},
   "outputs": [],
   "source": [
    "import gym\n",
    "import numpy as np\n",
    "env =gym.make(\"FrozenLake-v1\",is_slippery=True)"
   ]
  },
  {
   "cell_type": "code",
   "execution_count": 10,
   "id": "88bb1863-911c-4d4c-ab64-42d8b67f04d9",
   "metadata": {},
   "outputs": [
    {
     "name": "stdout",
     "output_type": "stream",
     "text": [
      "num_state  Discrete(16)\n",
      "num_action  Discrete(4)\n"
     ]
    }
   ],
   "source": [
    "print(\"num_state \",env.observation_space)\n",
    "\n",
    "print(\"num_action \",env.action_space)"
   ]
  },
  {
   "cell_type": "code",
   "execution_count": 11,
   "id": "2ebcc0e9-a01a-4825-8259-0c71c0a191c0",
   "metadata": {
    "scrolled": true
   },
   "outputs": [
    {
     "name": "stdout",
     "output_type": "stream",
     "text": [
      "0.0\n",
      "Action : 1 , observation : 4, Reward : 0.0\n",
      "0.0\n",
      "Action : 2 , observation : 5, Reward : 0.0\n"
     ]
    },
    {
     "name": "stderr",
     "output_type": "stream",
     "text": [
      "F:\\Anaconda\\Lib\\site-packages\\gym\\utils\\passive_env_checker.py:233: DeprecationWarning: `np.bool8` is a deprecated alias for `np.bool_`.  (Deprecated NumPy 1.24)\n",
      "  if not isinstance(terminated, (bool, np.bool8)):\n"
     ]
    }
   ],
   "source": [
    "env.reset()\n",
    "for i in range(10000):\n",
    "    random_act=env.action_space.sample()\n",
    "    observation ,reward,termine,truncate,info =env.step(random_act)\n",
    "    print(reward)\n",
    "    print(f\"Action : {random_act} , observation : {observation}, Reward : {reward}\")\n",
    "    done =termine\n",
    "    if done : \n",
    "        break"
   ]
  },
  {
   "cell_type": "markdown",
   "id": "61d448a0-96bc-4c51-a202-7196fa1a8492",
   "metadata": {},
   "source": [
    "## Exercice 2 : Implementation de la Q-Table "
   ]
  },
  {
   "cell_type": "code",
   "execution_count": 12,
   "id": "a1aac698-019f-42b4-aa33-6e60e5b48f11",
   "metadata": {},
   "outputs": [
    {
     "name": "stdout",
     "output_type": "stream",
     "text": [
      "Q-Table initialisée :\n",
      "[[0. 0. 0. 0.]\n",
      " [0. 0. 0. 0.]\n",
      " [0. 0. 0. 0.]\n",
      " [0. 0. 0. 0.]\n",
      " [0. 0. 0. 0.]\n",
      " [0. 0. 0. 0.]\n",
      " [0. 0. 0. 0.]\n",
      " [0. 0. 0. 0.]\n",
      " [0. 0. 0. 0.]\n",
      " [0. 0. 0. 0.]\n",
      " [0. 0. 0. 0.]\n",
      " [0. 0. 0. 0.]\n",
      " [0. 0. 0. 0.]\n",
      " [0. 0. 0. 0.]\n",
      " [0. 0. 0. 0.]\n",
      " [0. 0. 0. 0.]]\n"
     ]
    }
   ],
   "source": [
    "# Initialisation de la Q-Table\n",
    "num_states = env.observation_space.n  # Nombre d’états\n",
    "num_actions = env.action_space.n  # Nombre d’actions\n",
    "q_table = np.zeros((num_states, num_actions))  # Q-Table remplie de zéros\n",
    "\n",
    "print(\"Q-Table initialisée :\")\n",
    "print(q_table)"
   ]
  },
  {
   "cell_type": "code",
   "execution_count": 13,
   "id": "43837b73-d1e1-4dd2-95e4-34b001c6529e",
   "metadata": {},
   "outputs": [
    {
     "name": "stdout",
     "output_type": "stream",
     "text": [
      "Entraînement terminé !\n",
      "Q-Table finale :\n",
      "[[5.59373852e-01 4.08213919e-01 4.69019010e-01 4.22028411e-01]\n",
      " [6.26606999e-03 2.61771709e-01 3.46558348e-03 9.42114614e-02]\n",
      " [3.38242105e-01 3.52084942e-02 3.32138905e-02 5.14079799e-02]\n",
      " [0.00000000e+00 3.73881452e-02 0.00000000e+00 1.99053345e-06]\n",
      " [5.86733027e-01 3.69476141e-01 3.36715693e-01 3.65586232e-01]\n",
      " [0.00000000e+00 0.00000000e+00 0.00000000e+00 0.00000000e+00]\n",
      " [1.28089546e-01 9.16317070e-02 2.55783332e-01 1.99589551e-02]\n",
      " [0.00000000e+00 0.00000000e+00 0.00000000e+00 0.00000000e+00]\n",
      " [4.12018066e-01 4.80457477e-01 3.57866599e-01 6.52568915e-01]\n",
      " [3.97025011e-01 6.90996519e-01 3.98376968e-01 4.13830582e-01]\n",
      " [6.42801905e-01 4.03297718e-01 3.90773926e-01 2.61187627e-01]\n",
      " [0.00000000e+00 0.00000000e+00 0.00000000e+00 0.00000000e+00]\n",
      " [0.00000000e+00 0.00000000e+00 0.00000000e+00 0.00000000e+00]\n",
      " [4.83090918e-01 4.48308853e-01 8.08283581e-01 5.74273780e-01]\n",
      " [5.67893308e-01 9.24447066e-01 6.97974670e-01 7.59411208e-01]\n",
      " [0.00000000e+00 0.00000000e+00 0.00000000e+00 0.00000000e+00]]\n"
     ]
    }
   ],
   "source": [
    "import random\n",
    "\n",
    "alpha = 0.1  \n",
    "gamma = 0.99  \n",
    "epsilon = 1.0  \n",
    "epsilon_decay = 0.995  \n",
    "epsilon_min = 0.01  \n",
    "episodes = 5000  \n",
    "\n",
    "\n",
    "for episode in range(episodes):\n",
    "    state = env.reset()[0]  \n",
    "    done = False\n",
    "\n",
    "    while not done:\n",
    "        \n",
    "        if random.uniform(0, 1) < epsilon:\n",
    "            action = env.action_space.sample()  \n",
    "        else:\n",
    "            action = np.argmax(q_table[state, :])  \n",
    "\n",
    "        \n",
    "        new_state, reward, done, _, _ = env.step(action)\n",
    "\n",
    "        \n",
    "        q_table[state, action] = (1 - alpha) * q_table[state, action] + \\\n",
    "                                 alpha * (reward + gamma * np.max(q_table[new_state, :]))\n",
    "\n",
    "        state = new_state  \n",
    "\n",
    "   \n",
    "    epsilon = max(epsilon * epsilon_decay, epsilon_min)\n",
    "\n",
    "print(\"Entraînement terminé !\")\n",
    "print(\"Q-Table finale :\")\n",
    "print(q_table)\n"
   ]
  },
  {
   "cell_type": "code",
   "execution_count": 14,
   "id": "2f651347-17ed-4d48-8eb7-434e92f557c8",
   "metadata": {},
   "outputs": [
    {
     "name": "stdout",
     "output_type": "stream",
     "text": [
      "Test terminé !\n"
     ]
    },
    {
     "name": "stderr",
     "output_type": "stream",
     "text": [
      "F:\\Anaconda\\Lib\\site-packages\\gym\\envs\\toy_text\\frozen_lake.py:271: UserWarning: \u001b[33mWARN: You are calling render method without specifying any render mode. You can specify the render_mode at initialization, e.g. gym(\"FrozenLake-v1\", render_mode=\"rgb_array\")\u001b[0m\n",
      "  logger.warn(\n"
     ]
    }
   ],
   "source": [
    "state = env.reset()[0]\n",
    "done = False\n",
    "env.render()\n",
    "\n",
    "while not done:\n",
    "    action = np.argmax(q_table[state, :])  \n",
    "    new_state, reward, done, _, _ = env.step(action)\n",
    "    env.render() \n",
    "    state = new_state\n",
    "\n",
    "print(\"Test terminé !\")\n"
   ]
  },
  {
   "cell_type": "code",
   "execution_count": 15,
   "id": "03efbb49-e39a-4300-af68-1c3b87be7150",
   "metadata": {},
   "outputs": [
    {
     "name": "stdout",
     "output_type": "stream",
     "text": [
      "🎯 L'agent a atteint l'objectif 74 fois sur 100 épisodes.\n",
      "🔥 Taux de réussite : 74.00%\n"
     ]
    }
   ],
   "source": [
    "num_tests = 100  # \n",
    "success_count = 0  \n",
    "\n",
    "for _ in range(num_tests):\n",
    "    state = env.reset()[0]  \n",
    "    done = False\n",
    "\n",
    "    while not done:\n",
    "        action = np.argmax(q_table[state, :])  \n",
    "        new_state, reward, done, _, _ = env.step(action)\n",
    "        state = new_state  \n",
    "\n",
    "        if done and reward == 1:  \n",
    "            success_count += 1\n",
    "\n",
    "print(f\" L'agent a atteint l'objectif {success_count} fois sur {num_tests} épisodes.\")\n",
    "print(f\"Taux de réussite : {success_count / num_tests * 100:.2f}%\")"
   ]
  },
  {
   "cell_type": "code",
   "execution_count": 7,
   "id": "902823f3-ad5d-4082-aae4-fb21d169f6d0",
   "metadata": {},
   "outputs": [
    {
     "name": "stdout",
     "output_type": "stream",
     "text": [
      "0\n"
     ]
    }
   ],
   "source": [
    "print(count)"
   ]
  },
  {
   "cell_type": "code",
   "execution_count": null,
   "id": "bdecf0bc-2e28-47b8-9566-ad54a54c2a9b",
   "metadata": {},
   "outputs": [],
   "source": []
  }
 ],
 "metadata": {
  "kernelspec": {
   "display_name": "Python 3 (ipykernel)",
   "language": "python",
   "name": "python3"
  },
  "language_info": {
   "codemirror_mode": {
    "name": "ipython",
    "version": 3
   },
   "file_extension": ".py",
   "mimetype": "text/x-python",
   "name": "python",
   "nbconvert_exporter": "python",
   "pygments_lexer": "ipython3",
   "version": "3.12.7"
  }
 },
 "nbformat": 4,
 "nbformat_minor": 5
}
