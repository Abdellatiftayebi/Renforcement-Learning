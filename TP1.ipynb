{
 "cells": [
  {
   "cell_type": "code",
   "execution_count": 1,
   "id": "c5e4d8a7-2ab4-481a-91cf-f9cfafccc823",
   "metadata": {},
   "outputs": [],
   "source": [
    "import gymnasium as gym\n",
    "import time"
   ]
  },
  {
   "cell_type": "code",
   "execution_count": 2,
   "id": "a1771c9e-ce57-4deb-be06-fd5c2545cd0f",
   "metadata": {},
   "outputs": [
    {
     "name": "stdout",
     "output_type": "stream",
     "text": [
      "[-0.04776848 -0.03569485  0.03583175 -0.01852136]\n"
     ]
    }
   ],
   "source": [
    "env = gym.make(\"CartPole-v1\",render_mode=\"human\")\n",
    "state=env.reset()\n",
    "print(state[0])"
   ]
  },
  {
   "cell_type": "code",
   "execution_count": 3,
   "id": "1ad337c0-f350-41b2-993a-73aa23dbeb9b",
   "metadata": {},
   "outputs": [
    {
     "name": "stdout",
     "output_type": "stream",
     "text": [
      "num_state  Box([-4.8               -inf -0.41887903        -inf], [4.8               inf 0.41887903        inf], (4,), float32)\n",
      "num_action  Discrete(2)\n"
     ]
    }
   ],
   "source": [
    "print(\"num_state \",env.observation_space)\n",
    "print(\"num_action \",env.action_space)"
   ]
  },
  {
   "cell_type": "code",
   "execution_count": 4,
   "id": "74c11db0-a4ef-4e11-9d49-c4db2fe96f32",
   "metadata": {},
   "outputs": [
    {
     "name": "stdout",
     "output_type": "stream",
     "text": [
      "0\n",
      "Action : 0 , observation : [ 0.03751899 -0.20816189  0.01478719  0.2664931 ], Reward : 1.0\n",
      "1\n",
      "Action : 1 , observation : [ 0.03335575 -0.01325408  0.02011705 -0.02148937], Reward : 1.0\n",
      "0\n",
      "Action : 0 , observation : [ 0.03309067 -0.20865867  0.01968727  0.27747223], Reward : 1.0\n",
      "1\n",
      "Action : 1 , observation : [ 0.0289175  -0.01382303  0.02523671 -0.00893692], Reward : 1.0\n",
      "0\n",
      "Action : 0 , observation : [ 0.02864104 -0.20929766  0.02505797  0.29160047], Reward : 1.0\n",
      "1\n",
      "Action : 1 , observation : [ 0.02445509 -0.01454179  0.03088998  0.00692464], Reward : 1.0\n",
      "0\n",
      "Action : 0 , observation : [ 0.02416425 -0.21009281  0.03102847  0.30919147], Reward : 1.0\n",
      "0\n",
      "Action : 0 , observation : [ 0.01996239 -0.4056428   0.0372123   0.61149615], Reward : 1.0\n",
      "0\n",
      "Action : 0 , observation : [ 0.01184954 -0.60126454  0.04944223  0.91566354], Reward : 1.0\n",
      "0\n",
      "Action : 0 , observation : [-1.7575390e-04 -7.9701900e-01  6.7755498e-02  1.2234665e+00], Reward : 1.0\n",
      "0\n",
      "Action : 0 , observation : [-0.01611613 -0.99294513  0.09222483  1.5365862 ], Reward : 1.0\n",
      "1\n",
      "Action : 1 , observation : [-0.03597504 -0.7990465   0.12295655  1.27405   ], Reward : 1.0\n",
      "0\n",
      "Action : 0 , observation : [-0.05195597 -0.99550366  0.14843754  1.6025691 ], Reward : 1.0\n",
      "0\n",
      "Action : 0 , observation : [-0.07186604 -1.1920382   0.18048893  1.9376097 ], Reward : 1.0\n",
      "0\n",
      "Action : 0 , observation : [-0.09570681 -1.3885719   0.21924113  2.2803977 ], Reward : 1.0\n",
      "0\n",
      "Action : 0 , observation : [-0.01793763 -0.17551209  0.02293616  0.307235  ], Reward : 1.0\n",
      "0\n",
      "Action : 0 , observation : [-0.02144787 -0.37095323  0.02908086  0.6070622 ], Reward : 1.0\n",
      "0\n",
      "Action : 0 , observation : [-0.02886694 -0.56646943  0.0412221   0.90876114], Reward : 1.0\n",
      "0\n",
      "Action : 0 , observation : [-0.04019633 -0.7621244   0.05939732  1.2141101 ], Reward : 1.0\n",
      "0\n",
      "Action : 0 , observation : [-0.05543881 -0.9579603   0.08367953  1.5247985 ], Reward : 1.0\n",
      "1\n",
      "Action : 1 , observation : [-0.07459802 -0.7639425   0.1141755   1.2593632 ], Reward : 1.0\n",
      "0\n",
      "Action : 0 , observation : [-0.08987687 -0.9603249   0.13936277  1.5855135 ], Reward : 1.0\n",
      "1\n",
      "Action : 1 , observation : [-0.10908337 -0.7671079   0.17107303  1.3393382 ], Reward : 1.0\n",
      "0\n",
      "Action : 0 , observation : [-0.12442552 -0.9639204   0.1978598   1.6802981 ], Reward : 1.0\n",
      "0\n",
      "Action : 0 , observation : [-0.14370394 -1.1607087   0.23146576  2.0275133 ], Reward : 1.0\n",
      "1\n",
      "Action : 1 , observation : [ 0.02901991  0.21417947  0.00522781 -0.2520338 ], Reward : 1.0\n",
      "0\n",
      "Action : 0 , observation : [0.0333035  0.01898326 0.00018713 0.04229347], Reward : 1.0\n",
      "1\n",
      "Action : 1 , observation : [ 0.03368316  0.21410252  0.001033   -0.25033042], Reward : 1.0\n",
      "0\n",
      "Action : 0 , observation : [ 0.03796521  0.01896584 -0.00397361  0.04267817], Reward : 1.0\n",
      "1\n",
      "Action : 1 , observation : [ 0.03834453  0.21414454 -0.00312005 -0.2512558 ], Reward : 1.0\n",
      "1\n",
      "Action : 1 , observation : [ 0.04262742  0.4093109  -0.00814516 -0.5449212 ], Reward : 1.0\n",
      "1\n",
      "Action : 1 , observation : [ 0.05081364  0.60454637 -0.01904359 -0.84015936], Reward : 1.0\n",
      "1\n",
      "Action : 1 , observation : [ 0.06290457  0.79992306 -0.03584677 -1.1387697 ], Reward : 1.0\n",
      "0\n",
      "Action : 0 , observation : [ 0.07890303  0.60528773 -0.05862217 -0.85754097], Reward : 1.0\n",
      "1\n",
      "Action : 1 , observation : [ 0.09100878  0.80115724 -0.07577299 -1.1680657 ], Reward : 1.0\n",
      "1\n",
      "Action : 1 , observation : [ 0.10703193  0.9971788  -0.0991343  -1.4835101 ], Reward : 1.0\n",
      "1\n",
      "Action : 1 , observation : [ 0.1269755  1.1933601 -0.1288045 -1.8054351], Reward : 1.0\n",
      "1\n",
      "Action : 1 , observation : [ 0.1508427  1.3896635 -0.1649132 -2.1352148], Reward : 1.0\n",
      "1\n",
      "Action : 1 , observation : [ 0.17863597  1.5859904  -0.2076175  -2.473975  ], Reward : 1.0\n",
      "0\n",
      "Action : 0 , observation : [ 0.21035577  1.39313    -0.257097   -2.2514987 ], Reward : 1.0\n",
      "1\n",
      "Action : 1 , observation : [ 1.6734876e-02  1.7222923e-01  2.8491783e-04 -3.0741781e-01], Reward : 1.0\n",
      "0\n",
      "Action : 0 , observation : [ 0.02017946 -0.02289679 -0.00586344 -0.01464503], Reward : 1.0\n",
      "0\n",
      "Action : 0 , observation : [ 0.01972152 -0.21793416 -0.00615634  0.27618217], Reward : 1.0\n",
      "1\n",
      "Action : 1 , observation : [ 0.01536284 -0.02272492 -0.0006327  -0.0184361 ], Reward : 1.0\n",
      "1\n",
      "Action : 1 , observation : [ 0.01490834  0.17240609 -0.00100142 -0.31131858], Reward : 1.0\n",
      "1\n",
      "Action : 1 , observation : [ 0.01835646  0.3675423  -0.00722779 -0.6043172 ], Reward : 1.0\n",
      "1\n",
      "Action : 1 , observation : [ 0.02570731  0.5627646  -0.01931413 -0.8992679 ], Reward : 1.0\n",
      "0\n",
      "Action : 0 , observation : [ 0.0369626   0.36790964 -0.03729949 -0.612718  ], Reward : 1.0\n",
      "0\n",
      "Action : 0 , observation : [ 0.0443208   0.17332827 -0.04955385 -0.33201244], Reward : 1.0\n",
      "0\n",
      "Action : 0 , observation : [ 0.04778736 -0.02105461 -0.0561941  -0.05535892], Reward : 1.0\n",
      "0\n",
      "Action : 0 , observation : [ 0.04736627 -0.21532768 -0.05730128  0.21907833], Reward : 1.0\n",
      "0\n",
      "Action : 0 , observation : [ 0.04305971 -0.4095857  -0.05291971  0.49314976], Reward : 1.0\n",
      "1\n",
      "Action : 1 , observation : [ 0.034868   -0.21375886 -0.04305672  0.18426958], Reward : 1.0\n",
      "1\n",
      "Action : 1 , observation : [ 0.03059283 -0.01804813 -0.03937132 -0.12167919], Reward : 1.0\n",
      "0\n",
      "Action : 0 , observation : [ 0.03023186 -0.21258454 -0.04180491  0.1583271 ], Reward : 1.0\n",
      "1\n",
      "Action : 1 , observation : [ 0.02598017 -0.01688978 -0.03863836 -0.14724565], Reward : 1.0\n",
      "0\n",
      "Action : 0 , observation : [ 0.02564237 -0.21143772 -0.04158328  0.13300163], Reward : 1.0\n",
      "0\n",
      "Action : 0 , observation : [ 0.02141362 -0.40594012 -0.03892324  0.41228104], Reward : 1.0\n",
      "1\n",
      "Action : 1 , observation : [ 0.01329482 -0.21028864 -0.03067762  0.10758558], Reward : 1.0\n",
      "0\n",
      "Action : 0 , observation : [ 0.00908905 -0.40495786 -0.02852591  0.3904342 ], Reward : 1.0\n",
      "1\n",
      "Action : 1 , observation : [ 0.00098989 -0.2094429  -0.02071723  0.0888956 ], Reward : 1.0\n",
      "1\n",
      "Action : 1 , observation : [-0.00319897 -0.01403022 -0.01893932 -0.21025096], Reward : 1.0\n",
      "1\n",
      "Action : 1 , observation : [-0.00347957  0.18135734 -0.02314434 -0.5088476 ], Reward : 1.0\n",
      "1\n",
      "Action : 1 , observation : [ 1.4757276e-04  3.7679759e-01 -3.3321287e-02 -8.0873328e-01], Reward : 1.0\n",
      "1\n",
      "Action : 1 , observation : [ 0.00768352  0.5723599  -0.04949595 -1.1117085 ], Reward : 1.0\n",
      "0\n",
      "Action : 0 , observation : [ 0.01913072  0.37792182 -0.07173012 -0.8349545 ], Reward : 1.0\n",
      "1\n",
      "Action : 1 , observation : [ 0.02668916  0.57394654 -0.08842921 -1.149306  ], Reward : 1.0\n",
      "1\n",
      "Action : 1 , observation : [ 0.03816809  0.77010435 -0.11141533 -1.4683573 ], Reward : 1.0\n",
      "1\n",
      "Action : 1 , observation : [ 0.05357018  0.96639955 -0.14078248 -1.7936629 ], Reward : 1.0\n",
      "1\n",
      "Action : 1 , observation : [ 0.07289817  1.1627905  -0.17665574 -2.1265883 ], Reward : 1.0\n",
      "0\n",
      "Action : 0 , observation : [ 0.09615398  0.9698105  -0.21918751 -1.8932904 ], Reward : 1.0\n",
      "0\n",
      "Action : 0 , observation : [ 0.03324902 -0.18304718 -0.04897917  0.24413386], Reward : 1.0\n",
      "1\n",
      "Action : 1 , observation : [ 0.02958808  0.01273889 -0.04409649 -0.06358718], Reward : 1.0\n",
      "1\n",
      "Action : 1 , observation : [ 0.02984286  0.20846443 -0.04536824 -0.36985025], Reward : 1.0\n",
      "0\n",
      "Action : 0 , observation : [ 0.03401215  0.01401544 -0.05276524 -0.09181058], Reward : 1.0\n",
      "1\n",
      "Action : 1 , observation : [ 0.03429246  0.20985243 -0.05460145 -0.40066302], Reward : 1.0\n",
      "1\n",
      "Action : 1 , observation : [ 0.03848951  0.40570465 -0.06261471 -0.7100484 ], Reward : 1.0\n",
      "1\n",
      "Action : 1 , observation : [ 0.0466036   0.60163534 -0.07681568 -1.0217652 ], Reward : 1.0\n",
      "1\n",
      "Action : 1 , observation : [ 0.0586363   0.79769194 -0.09725098 -1.3375446 ], Reward : 1.0\n",
      "1\n",
      "Action : 1 , observation : [ 0.07459015  0.99389505 -0.12400188 -1.6590052 ], Reward : 1.0\n",
      "1\n",
      "Action : 1 , observation : [ 0.09446804  1.1902254  -0.15718198 -1.9876026 ], Reward : 1.0\n",
      "0\n",
      "Action : 0 , observation : [ 0.11827255  0.99706364 -0.19693403 -1.7474533 ], Reward : 1.0\n",
      "1\n",
      "Action : 1 , observation : [ 0.13821383  1.1938034  -0.2318831  -2.094384  ], Reward : 1.0\n",
      "0\n",
      "Action : 0 , observation : [ 0.03588302 -0.2273601  -0.04761436  0.29472807], Reward : 1.0\n",
      "0\n",
      "Action : 0 , observation : [ 0.03133582 -0.42177203 -0.0417198   0.57202214], Reward : 1.0\n",
      "0\n",
      "Action : 0 , observation : [ 0.02290037 -0.6162849  -0.03027936  0.8512755 ], Reward : 1.0\n",
      "1\n",
      "Action : 1 , observation : [ 0.01057468 -0.4207635  -0.01325385  0.54922706], Reward : 1.0\n",
      "1\n",
      "Action : 1 , observation : [ 0.00215941 -0.22545789 -0.00226931  0.25239787], Reward : 1.0\n",
      "1\n",
      "Action : 1 , observation : [-0.00234975 -0.03030361  0.00277865 -0.04099999], Reward : 1.0\n",
      "0\n",
      "Action : 0 , observation : [-0.00295582 -0.2254653   0.00195865  0.25255832], Reward : 1.0\n",
      "0\n",
      "Action : 0 , observation : [-0.00746513 -0.42061517  0.00700982  0.5458584 ], Reward : 1.0\n",
      "1\n",
      "Action : 1 , observation : [-0.01587743 -0.2255924   0.01792699  0.25539234], Reward : 1.0\n",
      "0\n",
      "Action : 0 , observation : [-0.02038928 -0.42096567  0.02303483  0.55367535], Reward : 1.0\n",
      "0\n",
      "Action : 0 , observation : [-0.02880859 -0.6164034   0.03410834  0.8535258 ], Reward : 1.0\n",
      "1\n",
      "Action : 1 , observation : [-0.04113666 -0.42176253  0.05117886  0.5717603 ], Reward : 1.0\n",
      "1\n",
      "Action : 1 , observation : [-0.04957191 -0.2273942   0.06261406  0.29562953], Reward : 1.0\n",
      "0\n",
      "Action : 0 , observation : [-0.0541198  -0.4233503   0.06852666  0.6073842 ], Reward : 1.0\n",
      "1\n",
      "Action : 1 , observation : [-0.0625868  -0.22924998  0.08067434  0.33704814], Reward : 1.0\n",
      "0\n",
      "Action : 0 , observation : [-0.0671718  -0.42542177  0.0874153   0.6540413 ], Reward : 1.0\n",
      "0\n",
      "Action : 0 , observation : [-0.07568023 -0.62164515  0.10049613  0.9729199 ], Reward : 1.0\n"
     ]
    }
   ],
   "source": [
    "\n",
    "for i in range(100):\n",
    "    random_action = env.action_space.sample()\n",
    "    print(random_action)\n",
    "    observation , reward ,termine,truncate,info =env.step(random_action)\n",
    "    print(f\"Action : {random_action} , observation : {observation}, Reward : {reward}\")\n",
    "    env.render()\n",
    "    if termine : \n",
    "        env.reset()\n",
    "env.close()"
   ]
  },
  {
   "cell_type": "markdown",
   "id": "604644fc-3d0d-4a3a-9b29-98aa97375354",
   "metadata": {},
   "source": [
    "### Exercice 2"
   ]
  },
  {
   "cell_type": "code",
   "execution_count": 38,
   "id": "3177d33b-9f78-47a1-99e2-b565c67af322",
   "metadata": {},
   "outputs": [
    {
     "name": "stdout",
     "output_type": "stream",
     "text": [
      "0\n",
      "Action : 0 , observation : [-0.03407425 -0.18388322 -0.03793867  0.2623151 ], Reward : 1.0,termine : False,Truncate : False,info :{}\n"
     ]
    }
   ],
   "source": [
    "random_action = env.action_space.sample()\n",
    "print(random_action)\n",
    "observation , reward ,termine,truncate,info =env.step(random_action)\n",
    "print(f\"Action : {random_action} , observation : {observation}, Reward : {reward},termine : {termine},Truncate : {truncate},info :{info}\")"
   ]
  },
  {
   "cell_type": "raw",
   "id": "edcc33fb-29e3-44a0-b3a0-6f4f6bf02c67",
   "metadata": {},
   "source": [
    "Alors pour le premier terme Action indique le Action qui fait Agent pour observation est indique new state nouvelle etat , et pour reward indique le recomponse a obtenir pour cette etat , truncate indique le temps pour effectuee cette Action est ce que recpecter ou bien non , termine indique est ce que arrive a le etat finale ou bien non "
   ]
  },
  {
   "cell_type": "code",
   "execution_count": 4,
   "id": "ed2837bc-3176-4de4-b46d-a8ecdc5fa9fb",
   "metadata": {},
   "outputs": [
    {
     "name": "stdout",
     "output_type": "stream",
     "text": [
      "Action : 0 , observation : [-0.03548935 -0.1537332   0.01007835  0.33279595], Reward : 1.0\n",
      "Action : 1 , observation : [-0.03856402  0.04124387  0.01673427  0.0433082 ], Reward : 1.0\n",
      "Action : 0 , observation : [-0.03773914 -0.154114    0.01760044  0.34122363], Reward : 1.0\n",
      "Action : 1 , observation : [-0.04082142  0.04075317  0.02442491  0.05414239], Reward : 1.0\n",
      "Action : 1 , observation : [-0.04000636  0.23551655  0.02550776 -0.23073532], Reward : 1.0\n",
      "Action : 1 , observation : [-0.03529603  0.4302649   0.02089305 -0.51526433], Reward : 1.0\n",
      "Action : 1 , observation : [-0.02669073  0.6250865   0.01058776 -0.8012908 ], Reward : 1.0\n",
      "Action : 0 , observation : [-0.014189    0.42982092 -0.00543805 -0.5052962 ], Reward : 1.0\n",
      "Action : 0 , observation : [-0.00559258  0.23477603 -0.01554398 -0.21433195], Reward : 1.0\n",
      "Action : 0 , observation : [-0.00089706  0.03987972 -0.01983062  0.07340746], Reward : 1.0\n",
      "Action : 0 , observation : [-9.9464953e-05 -1.5495241e-01 -1.8362468e-02  3.5976836e-01], Reward : 1.0\n",
      "Action : 1 , observation : [-0.00319851  0.0404257  -0.0111671   0.06135236], Reward : 1.0\n",
      "Action : 0 , observation : [-0.00239    -0.15453438 -0.00994005  0.3504912 ], Reward : 1.0\n",
      "Action : 0 , observation : [-0.00548069 -0.34951356 -0.00293023  0.6400232 ], Reward : 1.0\n",
      "Action : 1 , observation : [-0.01247096 -0.15435089  0.00987023  0.34641895], Reward : 1.0\n",
      "Action : 1 , observation : [-0.01555798  0.04062929  0.01679861  0.05686473], Reward : 1.0\n",
      "Action : 1 , observation : [-0.01474539  0.2355064   0.01793591 -0.23047113], Reward : 1.0\n",
      "Action : 0 , observation : [-0.01003526  0.0401328   0.01332648  0.067815  ], Reward : 1.0\n",
      "Action : 1 , observation : [-0.00923261  0.23506118  0.01468278 -0.22063375], Reward : 1.0\n",
      "Action : 0 , observation : [-0.00453138  0.03973246  0.01027011  0.07664433], Reward : 1.0\n",
      "Action : 1 , observation : [-0.00373673  0.23470569  0.011803   -0.21278073], Reward : 1.0\n",
      "Action : 1 , observation : [ 0.00095738  0.42965692  0.00754738 -0.5017172 ], Reward : 1.0\n",
      "Action : 1 , observation : [ 0.00955052  0.6246717  -0.00248696 -0.7920121 ], Reward : 1.0\n",
      "Action : 1 , observation : [ 0.02204395  0.8198277  -0.0183272  -1.0854764 ], Reward : 1.0\n",
      "Action : 1 , observation : [ 0.03844051  1.0151865  -0.04003673 -1.3838533 ], Reward : 1.0\n",
      "Action : 0 , observation : [ 0.05874424  0.8205862  -0.0677138  -1.1039544 ], Reward : 1.0\n",
      "Action : 0 , observation : [ 0.07515596  0.626417   -0.08979288 -0.8332607 ], Reward : 1.0\n",
      "Action : 0 , observation : [ 0.0876843   0.43262917 -0.1064581  -0.57011366], Reward : 1.0\n",
      "Action : 0 , observation : [ 0.09633689  0.23914862 -0.11786038 -0.31277546], Reward : 1.0\n",
      "Action : 1 , observation : [ 0.10111985  0.43573514 -0.12411588 -0.6401803 ], Reward : 1.0\n",
      "Action : 1 , observation : [ 0.10983456  0.6323489  -0.13691948 -0.9692287 ], Reward : 1.0\n",
      "Action : 0 , observation : [ 0.12248154  0.43930417 -0.15630406 -0.7225003 ], Reward : 1.0\n",
      "Action : 1 , observation : [ 0.13126762  0.636203   -0.17075408 -1.0600146 ], Reward : 1.0\n",
      "Action : 1 , observation : [ 0.14399168  0.83312416 -0.19195436 -1.4010587 ], Reward : 1.0\n",
      "Action : 0 , observation : [ 0.16065416  0.64083475 -0.21997553 -1.1740108 ], Reward : 1.0\n",
      "Action : 0 , observation : [-0.02720452 -0.18195686 -0.03327111  0.3184339 ], Reward : 1.0\n",
      "Action : 0 , observation : [-0.03084365 -0.37658954 -0.02690243  0.60044146], Reward : 1.0\n",
      "Action : 0 , observation : [-0.03837544 -0.571325   -0.0148936   0.8845306 ], Reward : 1.0\n",
      "Action : 1 , observation : [-0.04980194 -0.37600404  0.00279701  0.5872031 ], Reward : 1.0\n",
      "Action : 1 , observation : [-0.05732203 -0.18092136  0.01454107  0.29540256], Reward : 1.0\n",
      "Action : 0 , observation : [-0.06094045 -0.37624756  0.02044913  0.5926358 ], Reward : 1.0\n",
      "Action : 0 , observation : [-0.0684654  -0.57164973  0.03230184  0.89168936], Reward : 1.0\n",
      "Action : 0 , observation : [-0.07989839 -0.7671946   0.05013563  1.1943488 ], Reward : 1.0\n",
      "Action : 0 , observation : [-0.09524229 -0.96292865  0.07402261  1.5023147 ], Reward : 1.0\n",
      "Action : 0 , observation : [-0.11450087 -1.1588671   0.1040689   1.8171602 ], Reward : 1.0\n",
      "Action : 1 , observation : [-0.1376782 -0.9650453  0.1404121  1.5585415], Reward : 1.0\n",
      "Action : 1 , observation : [-0.15697911 -0.7718559   0.17158294  1.312755  ], Reward : 1.0\n",
      "Action : 0 , observation : [-0.17241623 -0.96868366  0.19783804  1.6538595 ], Reward : 1.0\n",
      "Action : 1 , observation : [-0.1917899  -0.7763447   0.23091522  1.4287645 ], Reward : 1.0\n",
      "Action : 0 , observation : [-0.03070221 -0.18622479  0.00739575  0.32132146], Reward : 1.0\n",
      "Action : 0 , observation : [-0.0344267  -0.38145128  0.01382218  0.6163275 ], Reward : 1.0\n",
      "Action : 1 , observation : [-0.04205573 -0.18652514  0.02614873  0.3280298 ], Reward : 1.0\n",
      "Action : 1 , observation : [-0.04578623  0.00821498  0.03270933  0.04370635], Reward : 1.0\n",
      "Action : 1 , observation : [-0.04562193  0.202853    0.03358345 -0.23847967], Reward : 1.0\n",
      "Action : 0 , observation : [-0.04156487  0.00726777  0.02881386  0.06460442], Reward : 1.0\n",
      "Action : 0 , observation : [-0.04141951 -0.18825519  0.03010595  0.36623722], Reward : 1.0\n",
      "Action : 0 , observation : [-0.04518462 -0.38379174  0.0374307   0.66825897], Reward : 1.0\n",
      "Action : 0 , observation : [-0.05286045 -0.57941365  0.05079588  0.97248834], Reward : 1.0\n",
      "Action : 0 , observation : [-0.06444873 -0.7751791   0.07024564  1.2806853 ], Reward : 1.0\n",
      "Action : 1 , observation : [-0.07995231 -0.5810189   0.09585935  1.0107986 ], Reward : 1.0\n",
      "Action : 0 , observation : [-0.09157269 -0.7772803   0.11607531  1.3319786 ], Reward : 1.0\n",
      "Action : 0 , observation : [-0.10711829 -0.9736588   0.14271489  1.6586137 ], Reward : 1.0\n",
      "Action : 1 , observation : [-0.12659147 -0.7804601   0.17588717  1.4135778 ], Reward : 1.0\n",
      "Action : 0 , observation : [-0.14220066 -0.97727084  0.20415872  1.7556838 ], Reward : 1.0\n",
      "Action : 1 , observation : [-0.16174608 -0.7849648   0.23927239  1.532822  ], Reward : 1.0\n",
      "Action : 1 , observation : [ 0.01414851  0.21475214  0.00770188 -0.26814055], Reward : 1.0\n",
      "Action : 0 , observation : [0.01844356 0.01952112 0.00233907 0.0269616 ], Reward : 1.0\n",
      "Action : 0 , observation : [ 0.01883398 -0.1756343   0.0028783   0.3203816 ], Reward : 1.0\n",
      "Action : 1 , observation : [0.01532129 0.01944654 0.00928593 0.02860778], Reward : 1.0\n",
      "Action : 0 , observation : [ 0.01571023 -0.17580733  0.00985809  0.324206  ], Reward : 1.0\n",
      "Action : 0 , observation : [ 0.01219408 -0.37106827  0.01634221  0.61998135], Reward : 1.0\n",
      "Action : 0 , observation : [ 0.00477271 -0.5664146   0.02874183  0.91776615], Reward : 1.0\n",
      "Action : 1 , observation : [-0.00655558 -0.37169278  0.04709716  0.63425297], Reward : 1.0\n",
      "Action : 0 , observation : [-0.01398943 -0.56743896  0.05978221  0.9413881 ], Reward : 1.0\n",
      "Action : 1 , observation : [-0.02533821 -0.3731714   0.07860998  0.6680729 ], Reward : 1.0\n",
      "Action : 0 , observation : [-0.03280164 -0.5692934   0.09197143  0.9844349 ], Reward : 1.0\n",
      "Action : 0 , observation : [-0.04418751 -0.76551896  0.11166013  1.3045307 ], Reward : 1.0\n",
      "Action : 1 , observation : [-0.05949789 -0.57197595  0.13775074  1.0487841 ], Reward : 1.0\n",
      "Action : 1 , observation : [-0.07093741 -0.37892365  0.15872642  0.80231947], Reward : 1.0\n",
      "Action : 1 , observation : [-0.07851588 -0.1862929   0.17477281  0.56347543], Reward : 1.0\n",
      "Action : 1 , observation : [-0.08224174  0.00600172  0.18604232  0.33054966], Reward : 1.0\n",
      "Action : 0 , observation : [-0.08212171 -0.19121377  0.19265333  0.6756496 ], Reward : 1.0\n",
      "Action : 0 , observation : [-0.08594598 -0.38841656  0.20616631  1.0222716 ], Reward : 1.0\n",
      "Action : 1 , observation : [-0.09371431 -0.19654787  0.22661175  0.80074793], Reward : 1.0\n",
      "Action : 0 , observation : [ 0.03662924 -0.1939392  -0.04842982  0.26503086], Reward : 1.0\n",
      "Action : 0 , observation : [ 0.03275046 -0.38833767 -0.0431292   0.5420539 ], Reward : 1.0\n",
      "Action : 1 , observation : [ 0.02498371 -0.19263692 -0.03228812  0.23609966], Reward : 1.0\n",
      "Action : 0 , observation : [ 0.02113097 -0.38728306 -0.02756613  0.51842564], Reward : 1.0\n",
      "Action : 0 , observation : [ 0.01338531 -0.5820063  -0.01719762  0.80229604], Reward : 1.0\n",
      "Action : 1 , observation : [ 0.00174518 -0.38665274 -0.0011517   0.50425327], Reward : 1.0\n",
      "Action : 0 , observation : [-0.00598787 -0.58175844  0.00893337  0.79657304], Reward : 1.0\n",
      "Action : 0 , observation : [-0.01762304 -0.77700186  0.02486483  1.0920528 ], Reward : 1.0\n",
      "Action : 1 , observation : [-0.03316308 -0.5822162   0.04670588  0.8072742 ], Reward : 1.0\n",
      "Action : 0 , observation : [-0.0448074  -0.7779461   0.06285137  1.1142755 ], Reward : 1.0\n",
      "Action : 1 , observation : [-0.06036633 -0.58370316  0.08513688  0.84195244], Reward : 1.0\n",
      "Action : 1 , observation : [-0.07204039 -0.38984007  0.10197593  0.577211  ], Reward : 1.0\n",
      "Action : 1 , observation : [-0.07983719 -0.19628417  0.11352015  0.31831446], Reward : 1.0\n",
      "Action : 1 , observation : [-0.08376287 -0.00294664  0.11988644  0.06347808], Reward : 1.0\n",
      "Action : 1 , observation : [-0.0838218   0.19027063  0.121156   -0.18910529], Reward : 1.0\n",
      "Action : 1 , observation : [-0.08001639  0.3834697   0.11737389 -0.44124678], Reward : 1.0\n"
     ]
    }
   ],
   "source": [
    "for i in range(100):\n",
    "    random_action = env.action_space.sample()\n",
    "    observation , reward ,termine,truncate,info =env.step(random_action)\n",
    "    print(f\"Action : {random_action} , observation : {observation}, Reward : {reward}\")\n",
    "    env.render()\n",
    "    if termine : \n",
    "        env.reset()\n",
    "env.close()"
   ]
  },
  {
   "cell_type": "markdown",
   "id": "f5c1d047-d219-42b2-9009-63e9522ce6ba",
   "metadata": {},
   "source": [
    "## Exercice 3 : Controle Manuel de Agent "
   ]
  },
  {
   "cell_type": "code",
   "execution_count": 16,
   "id": "d1e9c85d-a502-4f9f-99d0-76f71a838702",
   "metadata": {
    "scrolled": true
   },
   "outputs": [
    {
     "name": "stdin",
     "output_type": "stream",
     "text": [
      "donner le action 0 ou 1 1\n"
     ]
    },
    {
     "name": "stdout",
     "output_type": "stream",
     "text": [
      "Action : 1 , observation : [-0.01878112  0.62702256  0.02543901 -0.85622615], Reward : 1.0\n",
      "la duree Totale de l'episode : 0.002015352249145508\n"
     ]
    }
   ],
   "source": [
    "\n",
    "Manuel_action =int(input(\"donner le action 0 ou 1\"))\n",
    "time_start=time.time()\n",
    "observation , reward ,termine,truncate,info =env.step(Manuel_action)\n",
    "time_end=time.time()\n",
    "print(f\"Action : {random_action} , observation : {observation}, Reward : {reward}\")\n",
    "time_episode=time_end-time_start\n",
    "print(f\"la duree Totale de l'episode : {time_episode}\")\n"
   ]
  },
  {
   "cell_type": "markdown",
   "id": "883f7f7e-2a54-44bb-a826-db948c93666c",
   "metadata": {},
   "source": [
    "### Exercice 4 : Evaluation des Performances d'une Politique Aleatoire "
   ]
  },
  {
   "cell_type": "code",
   "execution_count": 23,
   "id": "0a12b4db-4f82-4388-805d-18474de76bd5",
   "metadata": {
    "scrolled": true
   },
   "outputs": [
    {
     "name": "stdout",
     "output_type": "stream",
     "text": [
      "Action : 1 , observation : [ 0.06270017  0.17623511 -0.06313465 -0.38921228], Reward : 1.0\n",
      "la duree Totale de l'episode : 0.001989126205444336\n",
      "-----------------------------------------------\n",
      "Action : 1 , observation : [ 0.06622487  0.3721937  -0.0709189  -0.70111376], Reward : 1.0\n",
      "la duree Totale de l'episode : 0.02002573013305664\n",
      "-----------------------------------------------\n",
      "Action : 1 , observation : [ 0.07366875  0.5682233  -0.08494117 -1.0152518 ], Reward : 1.0\n",
      "la duree Totale de l'episode : 0.02008533477783203\n",
      "-----------------------------------------------\n",
      "Action : 1 , observation : [ 0.08503322  0.764369   -0.10524621 -1.3333522 ], Reward : 1.0\n",
      "la duree Totale de l'episode : 0.019705533981323242\n",
      "-----------------------------------------------\n",
      "Action : 1 , observation : [ 0.10032059  0.9606485  -0.13191324 -1.6570276 ], Reward : 1.0\n",
      "la duree Totale de l'episode : 0.01999640464782715\n",
      "-----------------------------------------------\n",
      "Action : 0 , observation : [ 0.11953357  0.7672889  -0.1650538  -1.4081782 ], Reward : 1.0\n",
      "la duree Totale de l'episode : 0.019704341888427734\n",
      "-----------------------------------------------\n",
      "Action : 1 , observation : [ 0.13487935  0.9640288  -0.19321737 -1.7475832 ], Reward : 1.0\n",
      "la duree Totale de l'episode : 0.020302772521972656\n",
      "-----------------------------------------------\n",
      "Action : 0 , observation : [ 0.15415992  0.7715565  -0.22816902 -1.5207002 ], Reward : 1.0\n",
      "la duree Totale de l'episode : 0.01975870132446289\n",
      "-----------------------------------------------\n",
      "Action : 1 , observation : [ 0.16959105  0.9685904  -0.25858304 -1.8750921 ], Reward : 0.0\n",
      "la duree Totale de l'episode : 0.020354509353637695\n",
      "-----------------------------------------------\n",
      "Action : 1 , observation : [ 0.18896286  1.1654387  -0.29608488 -2.2357268 ], Reward : 0.0\n",
      "la duree Totale de l'episode : 0.019834518432617188\n",
      "-----------------------------------------------\n"
     ]
    }
   ],
   "source": [
    "for i in range(10):\n",
    "    random_action = env.action_space.sample()\n",
    "    time_start=time.time()\n",
    "    observation , reward ,termine,truncate,info =env.step(random_action)\n",
    "    time_end=time.time()\n",
    "    print(f\"Action : {random_action} , observation : {observation}, Reward : {reward}\")\n",
    "    time_episode=time_end-time_start\n",
    "    print(f\"la duree Totale de l'episode : {time_episode}\")\n",
    "    print(\"-----------------------------------------------\")"
   ]
  },
  {
   "cell_type": "raw",
   "id": "3aa06d3d-2d31-4f0a-8779-f6ba5069cc9d",
   "metadata": {},
   "source": [
    "on remarque que l'orsque Agent prendre une action dans un episode avec une duree est differnet a l'autre episode meme si le action est le meme "
   ]
  },
  {
   "cell_type": "code",
   "execution_count": null,
   "id": "e1f72c7a-6f3f-4e43-847f-171ca151be2c",
   "metadata": {},
   "outputs": [],
   "source": []
  }
 ],
 "metadata": {
  "kernelspec": {
   "display_name": "Python 3 (ipykernel)",
   "language": "python",
   "name": "python3"
  },
  "language_info": {
   "codemirror_mode": {
    "name": "ipython",
    "version": 3
   },
   "file_extension": ".py",
   "mimetype": "text/x-python",
   "name": "python",
   "nbconvert_exporter": "python",
   "pygments_lexer": "ipython3",
   "version": "3.12.7"
  }
 },
 "nbformat": 4,
 "nbformat_minor": 5
}
