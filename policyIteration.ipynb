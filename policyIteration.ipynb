{
 "cells": [
  {
   "cell_type": "code",
   "execution_count": 1,
   "id": "283c8b87-b781-4c66-b779-32bc6eefe314",
   "metadata": {},
   "outputs": [],
   "source": [
    "import gym\n",
    "import numpy as np"
   ]
  },
  {
   "cell_type": "code",
   "execution_count": 2,
   "id": "19360e90-0cb3-4644-87a7-e03f9310d213",
   "metadata": {},
   "outputs": [],
   "source": [
    "env = gym.make(\"FrozenLake-v1\",render_mode=\"human\",is_slippery=False)"
   ]
  },
  {
   "cell_type": "code",
   "execution_count": 3,
   "id": "8691f7b2-d264-4466-9a73-f6d902a49963",
   "metadata": {},
   "outputs": [
    {
     "name": "stderr",
     "output_type": "stream",
     "text": [
      "F:\\Anaconda\\Lib\\site-packages\\gym\\utils\\passive_env_checker.py:233: DeprecationWarning: `np.bool8` is a deprecated alias for `np.bool_`.  (Deprecated NumPy 1.24)\n",
      "  if not isinstance(terminated, (bool, np.bool8)):\n"
     ]
    },
    {
     "name": "stdout",
     "output_type": "stream",
     "text": [
      "[1, 2, 1, 0, 1, 0, 1, 0, 2, 1, 1, 0, 0, 2, 2, 0]\n",
      "(4, 0.0, False, False, {'prob': 1.0})\n",
      "(8, 0.0, False, False, {'prob': 1.0})\n",
      "(9, 0.0, False, False, {'prob': 1.0})\n",
      "(13, 0.0, False, False, {'prob': 1.0})\n",
      "(14, 0.0, False, False, {'prob': 1.0})\n",
      "(15, 1.0, True, False, {'prob': 1.0})\n"
     ]
    }
   ],
   "source": [
    "class PolicyIteration():\n",
    "\n",
    "    def __init__(self,env,n_iteration,discount_facture):\n",
    "        self.num_state=env.observation_space.n\n",
    "        self.num_action = env.action_space.n\n",
    "        self.n_iteration=n_iteration\n",
    "        self.discount_facture=discount_facture\n",
    "        self.value_table = [0] * self.num_state\n",
    "        self.optimal_policy = list(np.random.randint(0,self.num_action,self.num_state))\n",
    "\n",
    "\n",
    "    def get_optimal_policy(self):\n",
    "        for i in range(self.n_iteration):\n",
    "            for state in range(self.num_state):\n",
    "                action =self.optimal_policy[state]\n",
    "                info_state = env.P[state][action]\n",
    "                probabilite = np.array([x[0] for x in info_state])\n",
    "                R  =np.array([x[2] for x in info_state]) + self.discount_facture * np.array([self.value_table[x[1]] for x in info_state])\n",
    "                v = sum(probabilite*R)\n",
    "                self.value_table[state]=v\n",
    "\n",
    "                action_Q =[0]*self.num_action\n",
    "                for action in range(self.num_action):\n",
    "                    info_state = env.P[state][action]\n",
    "                     #[(0.33,2,1),(0.33,1,0),(probabilite,new_state,reward obtenu)]\n",
    "                    probabilite = np.array([x[0] for x in info_state])\n",
    "\n",
    "                    R  =np.array([x[2] for x in info_state]) + self.discount_facture * np.array([self.value_table[x[1]] for x in info_state])\n",
    "                    Q=sum(probabilite*R)\n",
    "                    action_Q[action] = Q\n",
    "                self.optimal_policy[state]=np.argmax(action_Q)\n",
    "        return self.optimal_policy\n",
    "\n",
    "\n",
    "cur_state = env.reset()[0]\n",
    "n_iteration =10000\n",
    "discount = 0.99\n",
    "app=PolicyIteration(env,n_iteration,discount)\n",
    "\n",
    "policy =app.get_optimal_policy()\n",
    "print(policy)\n",
    "\n",
    "\n",
    "count = 0 \n",
    "for i in range(10):\n",
    "  s=0\n",
    "  done=False\n",
    "  while not done:\n",
    "    t=env.step(int(policy[s]))\n",
    "    print(t)\n",
    "    s=int(t[0])\n",
    "    done = t[2] or t[3]\n",
    "    if t[2]==True : \n",
    "        count+=1\n",
    "    env.render()\n",
    "print(f\"le nombre de fois succes est : {count}\")    \n",
    "env.close()"
   ]
  },
  {
   "cell_type": "code",
   "execution_count": null,
   "id": "a72f31a9-3be0-4e92-b070-b8bbeea61a7d",
   "metadata": {},
   "outputs": [],
   "source": []
  }
 ],
 "metadata": {
  "kernelspec": {
   "display_name": "Python 3 (ipykernel)",
   "language": "python",
   "name": "python3"
  },
  "language_info": {
   "codemirror_mode": {
    "name": "ipython",
    "version": 3
   },
   "file_extension": ".py",
   "mimetype": "text/x-python",
   "name": "python",
   "nbconvert_exporter": "python",
   "pygments_lexer": "ipython3",
   "version": "3.12.7"
  }
 },
 "nbformat": 4,
 "nbformat_minor": 5
}
